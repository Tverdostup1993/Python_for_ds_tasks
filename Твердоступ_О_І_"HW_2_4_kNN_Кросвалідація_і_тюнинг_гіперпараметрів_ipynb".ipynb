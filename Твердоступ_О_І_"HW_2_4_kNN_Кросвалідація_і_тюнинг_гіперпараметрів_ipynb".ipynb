{
  "nbformat": 4,
  "nbformat_minor": 0,
  "metadata": {
    "colab": {
      "provenance": [],
      "include_colab_link": true
    },
    "kernelspec": {
      "name": "python3",
      "display_name": "Python 3"
    },
    "language_info": {
      "name": "python"
    }
  },
  "cells": [
    {
      "cell_type": "markdown",
      "metadata": {
        "id": "view-in-github",
        "colab_type": "text"
      },
      "source": [
        "<a href=\"https://colab.research.google.com/github/Tverdostup1993/Python_for_ds_tasks/blob/main/%D0%A2%D0%B2%D0%B5%D1%80%D0%B4%D0%BE%D1%81%D1%82%D1%83%D0%BF_%D0%9E_%D0%86_%22HW_2_4_kNN_%D0%9A%D1%80%D0%BE%D1%81%D0%B2%D0%B0%D0%BB%D1%96%D0%B4%D0%B0%D1%86%D1%96%D1%8F_%D1%96_%D1%82%D1%8E%D0%BD%D0%B8%D0%BD%D0%B3_%D0%B3%D1%96%D0%BF%D0%B5%D1%80%D0%BF%D0%B0%D1%80%D0%B0%D0%BC%D0%B5%D1%82%D1%80%D1%96%D0%B2_ipynb%22.ipynb\" target=\"_parent\"><img src=\"https://colab.research.google.com/assets/colab-badge.svg\" alt=\"Open In Colab\"/></a>"
      ]
    },
    {
      "cell_type": "markdown",
      "source": [
        "В цьому домашньому завданні ми знову працюємо з даними з нашого змагання [\"Bank Customer Churn Prediction (DLU Course)\"](https://www.kaggle.com/t/7c080c5d8ec64364a93cf4e8f880b6a0).\n",
        "\n",
        "Тут ми побудуємо рішення задачі класифікації з використанням kNearestNeighboors, знайдемо оптимальні гіперпараметри для цього методу і зробимо базові ансамблі. Це дасть змогу порівняти перформанс моделі з попередніми вивченими методами."
      ],
      "metadata": {
        "id": "fDefDHQt8LXC"
      }
    },
    {
      "cell_type": "markdown",
      "source": [
        "0. Зчитайте дані `train.csv` та зробіть препроцесинг використовуючи написаний Вами скрипт `process_bank_churn.py` так, аби в результаті отримати дані в розбитті X_train, train_targets, X_val, val_targets для експериментів.\n",
        "\n",
        "  Якщо Вам не вдалось реалізувати в завданні `2.3. Дерева прийняття рішень` скрипт `process_bank_churn.py` - можна скористатись готовим скриптом з запропонованого рішення того завдання."
      ],
      "metadata": {
        "id": "LhivzW9W8-Dz"
      }
    },
    {
      "cell_type": "code",
      "source": [
        "# prepare_churn_splits.py\n",
        "\n",
        "import sys\n",
        "import pandas as pd\n",
        "\n",
        "try:\n",
        "    from process_bank_churn import preprocess_data\n",
        "except ImportError as e:\n",
        "    print(\"❌ Не знайшов process_bank_churn.py поруч. Покладіть його поряд або додайте шлях у sys.path.\")\n",
        "    raise e\n",
        "\n",
        "def main():\n",
        "    in_path = \"train.csv\"\n",
        "    df = pd.read_csv(in_path)\n",
        "    print(f\"✅ train.csv завантажено: {df.shape}\")\n",
        "\n",
        "    X_train, train_targets, X_val, val_targets, input_cols, scaler, encoder = preprocess_data(df, scaler_numeric=True)\n",
        "\n",
        "    print(\"🔎 Розміри після препроцесингу:\")\n",
        "    print(f\"  X_train:       {X_train.shape}\")\n",
        "    print(f\"  train_targets: {train_targets.shape}\")\n",
        "    print(f\"  X_val:         {X_val.shape}\")\n",
        "    print(f\"  val_targets:   {val_targets.shape}\")\n",
        "\n",
        "    try:\n",
        "        X_train.to_parquet(\"X_train.parquet\", index=False)\n",
        "        X_val.to_parquet(\"X_val.parquet\", index=False)\n",
        "        train_targets.to_frame(name=train_targets.name or \"target\").to_parquet(\"y_train.parquet\", index=False)\n",
        "        val_targets.to_frame(name=val_targets.name or \"target\").to_parquet(\"y_val.parquet\", index=False)\n",
        "        print(\"💾 Збережено: X_train.parquet, X_val.parquet, y_train.parquet, y_val.parquet\")\n",
        "    except Exception:\n",
        "        X_train.to_csv(\"X_train.csv\", index=False)\n",
        "        X_val.to_csv(\"X_val.csv\", index=False)\n",
        "        train_targets.to_frame(name=train_targets.name or \"target\").to_csv(\"y_train.csv\", index=False)\n",
        "        val_targets.to_frame(name=val_targets.name or \"target\").to_csv(\"y_val.csv\", index=False)\n",
        "        print(\"💾 Збережено: X_train.csv, X_val.csv, y_train.csv, y_val.csv\")\n",
        "\n",
        "    return X_train, train_targets, X_val, val_targets\n",
        "\n",
        "if __name__ == \"__main__\":\n",
        "    X_train, train_targets, X_val, val_targets = main()\n"
      ],
      "metadata": {
        "id": "Z-mntPMAH-rv",
        "colab": {
          "base_uri": "https://localhost:8080/"
        },
        "outputId": "22aeb616-5e43-4250-b144-cd0a42b5326a"
      },
      "execution_count": 5,
      "outputs": [
        {
          "output_type": "stream",
          "name": "stdout",
          "text": [
            "✅ train.csv завантажено: (15000, 14)\n",
            "🔎 Розміри після препроцесингу:\n",
            "  X_train:       (12000, 15)\n",
            "  train_targets: (12000,)\n",
            "  X_val:         (3000, 15)\n",
            "  val_targets:   (3000,)\n",
            "💾 Збережено: X_train.parquet, X_val.parquet, y_train.parquet, y_val.parquet\n"
          ]
        }
      ]
    },
    {
      "cell_type": "markdown",
      "source": [
        "1. Навчіть на цих даних класифікатор kNN з параметрами за замовченням і виміряйте точність з допомогою AUROC на тренувальному та валідаційному наборах. Зробіть заключення про отриману модель: вона хороша/погана, чи є high bias/high variance?"
      ],
      "metadata": {
        "id": "_LxWkv4o-wMe"
      }
    },
    {
      "cell_type": "code",
      "source": [
        "from sklearn.neighbors import KNeighborsClassifier\n",
        "from sklearn.metrics import roc_auc_score\n",
        "\n",
        "# 1) Створюємо kNN з параметрами за замовченням\n",
        "knn = KNeighborsClassifier()\n",
        "\n",
        "# 2) Навчаємо модель\n",
        "knn.fit(X_train, train_targets)\n",
        "\n",
        "# 3) Прогнозуємо ймовірності\n",
        "y_train_pred = knn.predict_proba(X_train)[:, 1]\n",
        "y_val_pred = knn.predict_proba(X_val)[:, 1]\n",
        "\n",
        "# 4) Рахуємо AUROC\n",
        "train_auc = roc_auc_score(train_targets, y_train_pred)\n",
        "val_auc = roc_auc_score(val_targets, y_val_pred)\n",
        "\n",
        "print(f\"AUROC на train: {train_auc:.3f}\")\n",
        "print(f\"AUROC на val:   {val_auc:.3f}\")\n"
      ],
      "metadata": {
        "id": "1TH7H_Z9IAHD",
        "colab": {
          "base_uri": "https://localhost:8080/"
        },
        "outputId": "3b13d65c-d3c1-4b3f-d4e8-963498a9d6fb"
      },
      "execution_count": 8,
      "outputs": [
        {
          "output_type": "stream",
          "name": "stdout",
          "text": [
            "AUROC на train: 0.960\n",
            "AUROC на val:   0.864\n"
          ]
        }
      ]
    },
    {
      "cell_type": "markdown",
      "source": [
        "Різниця між train і val ~0.096 (9.6 п.п.). Це свідчить про легке переобучення (high variance): модель надто добре запам’ятала тренувальні приклади, але на нових працює гірше."
      ],
      "metadata": {
        "id": "Nhyj3eaD8FBi"
      }
    },
    {
      "cell_type": "markdown",
      "source": [
        "2. Використовуючи `GridSearchCV` знайдіть оптимальне значення параметра `n_neighbors` для класифікатора `kNN`. Псотавте крос валідацію на 5 фолдів.\n",
        "\n",
        "  Після успішного завершення пошуку оптимального гіперпараметра\n",
        "    - виведіть найкраще значення параметра\n",
        "    - збережіть в окрему змінну `knn_best` найкращу модель, знайдену з `GridSearchCV`\n",
        "    - оцініть якість передбачень  `knn_best` на тренувальній і валідаційній вибірці з допомогою AUROC.\n",
        "    - зробіть висновок про якість моделі. Чи стала вона краще порівняно з попереднім пукнтом (2) цього завдання? Чи є вона краще за дерево прийняття рішень з попереднього ДЗ?"
      ],
      "metadata": {
        "id": "U4hm5qYs_f7x"
      }
    },
    {
      "cell_type": "code",
      "source": [
        "import numpy as np\n",
        "from sklearn.neighbors import KNeighborsClassifier\n",
        "from sklearn.model_selection import GridSearchCV, StratifiedKFold\n",
        "from sklearn.metrics import roc_auc_score\n",
        "\n",
        "knn = KNeighborsClassifier()\n",
        "param_grid = {'n_neighbors': np.arange(1, 31)}\n",
        "cv = StratifiedKFold(n_splits=5, shuffle=True, random_state=42)\n",
        "\n",
        "knn_gs = GridSearchCV(\n",
        "    estimator=knn,\n",
        "    param_grid=param_grid,\n",
        "    scoring='roc_auc',\n",
        "    cv=cv,\n",
        "    n_jobs=-1,\n",
        "    refit=True\n",
        ")\n",
        "knn_gs.fit(X_train, train_targets)\n",
        "\n",
        "best_k = knn_gs.best_params_['n_neighbors']\n",
        "cv_best_auc = knn_gs.best_score_\n",
        "print(f\"Найкращий n_neighbors: {best_k}\")\n",
        "print(f\"CV (mean AUROC) для найкращого k: {cv_best_auc:.4f}\")\n",
        "\n",
        "knn_best = knn_gs.best_estimator_\n",
        "\n",
        "y_train_pred = knn_best.predict_proba(X_train)[:, 1]\n",
        "y_val_pred   = knn_best.predict_proba(X_val)[:, 1]\n",
        "\n",
        "train_auc = roc_auc_score(train_targets, y_train_pred)\n",
        "val_auc   = roc_auc_score(val_targets, y_val_pred)\n",
        "\n",
        "print(f\"AUROC train (best k): {train_auc:.4f}\")\n",
        "print(f\"AUROC val   (best k): {val_auc:.4f}\")\n",
        "\n",
        "gap = train_auc - val_auc\n",
        "if val_auc < 0.65 and train_auc < 0.70:\n",
        "    diagnosis = \"High bias (underfitting): і train, і val низькі.\"\n",
        "elif gap > 0.10 and train_auc >= 0.80:\n",
        "    diagnosis = \"High variance (overfitting): train значно вищий за val.\"\n",
        "else:\n",
        "    diagnosis = \"Баланс ок: різниця між train і val помірна.\"\n",
        "print(\"Діагностика:\", diagnosis)\n",
        "\n",
        "\n",
        "prev_knn_train_auc = 0.960\n",
        "prev_knn_val_auc   = 0.864\n",
        "prev_tree_val_auc  = 0.923\n",
        "\n",
        "if prev_knn_val_auc is not None:\n",
        "    print(f\"\\nПорівняння з базовим kNN (k=5):\")\n",
        "    print(f\"  Було  (train/val): {prev_knn_train_auc:.4f} / {prev_knn_val_auc:.4f}\")\n",
        "    print(f\"  Стало (train/val): {train_auc:.4f} / {val_auc:.4f}\")\n",
        "    print(f\"  Δ val AUROC: {val_auc - prev_knn_val_auc:+.4f}\")\n",
        "\n",
        "if prev_tree_val_auc is not None:\n",
        "    print(f\"\\nПорівняння з деревом рішень (val AUROC):\")\n",
        "    print(f\"  Дерево: {prev_tree_val_auc:.4f}\")\n",
        "    print(f\"  kNN(best): {val_auc:.4f}\")\n"
      ],
      "metadata": {
        "colab": {
          "base_uri": "https://localhost:8080/"
        },
        "id": "ZxPJ7cUd-MsZ",
        "outputId": "278e5642-6aab-4b21-f283-ea82166bbd46"
      },
      "execution_count": 14,
      "outputs": [
        {
          "output_type": "stream",
          "name": "stdout",
          "text": [
            "Найкращий n_neighbors: 30\n",
            "CV (mean AUROC) для найкращого k: 0.9093\n",
            "AUROC train (best k): 0.9303\n",
            "AUROC val   (best k): 0.9127\n",
            "Діагностика: Баланс ок: різниця між train і val помірна.\n",
            "\n",
            "Порівняння з базовим kNN (k=5):\n",
            "  Було  (train/val): 0.9600 / 0.8640\n",
            "  Стало (train/val): 0.9303 / 0.9127\n",
            "  Δ val AUROC: +0.0487\n",
            "\n",
            "Порівняння з деревом рішень (val AUROC):\n",
            "  Дерево: 0.9230\n",
            "  kNN(best): 0.9127\n"
          ]
        }
      ]
    },
    {
      "cell_type": "markdown",
      "source": [
        "GridSearch дійсно покращив kNN: модель стала стабільнішою, прибралося сильне перенавчання. Decision Tree трохи краще на цих даних (0.923 vs 0.913 на валідації), але відрив невеликий."
      ],
      "metadata": {
        "id": "DrTZvFXiAgxN"
      }
    },
    {
      "cell_type": "markdown",
      "source": [
        "3. Виконайте пошук оптимальних гіперпараметрів для `DecisionTreeClassifier` з `GridSearchCV` за сіткою параметрів\n",
        "  - `max_depth` від 1 до 20 з кроком 2\n",
        "  - `max_leaf_nodes` від 2 до 10 з кроком 1\n",
        "\n",
        "  Обовʼязково при цьому ініціюйте модель з фіксацією `random_state`.\n",
        "\n",
        "  Поставте кросвалідацію на 3 фолди, `scoring='roc_auc'`, та виміряйте, скільки часу потребує пошук оптимальних гіперпараметрів.\n",
        "\n",
        "  Після успішного завершення пошуку оптимальних гіперпараметрів\n",
        "    - виведіть найкращі значення параметра\n",
        "    - збережіть в окрему змінну `dt_best` найкращу модель, знайдену з `GridSearchCV`\n",
        "    - оцініть якість передбачень  `dt_best` на тренувальній і валідаційній вибірці з допомогою AUROC.\n",
        "    - зробіть висновок про якість моделі. Чи ця модель краща за ту, що ви знайшли вручну?"
      ],
      "metadata": {
        "id": "Vg77SVWrBBmU"
      }
    },
    {
      "cell_type": "code",
      "source": [
        "import time\n",
        "import numpy as np\n",
        "from sklearn.tree import DecisionTreeClassifier\n",
        "from sklearn.model_selection import GridSearchCV, StratifiedKFold\n",
        "from sklearn.metrics import roc_auc_score\n",
        "\n",
        "\n",
        "dt = DecisionTreeClassifier(random_state=42)\n",
        "\n",
        "\n",
        "param_grid = {\n",
        "    \"max_depth\": np.arange(1, 21, 2),\n",
        "    \"max_leaf_nodes\": np.arange(2, 11, 1),\n",
        "}\n",
        "\n",
        "\n",
        "cv = StratifiedKFold(n_splits=3, shuffle=True, random_state=42)\n",
        "grid = GridSearchCV(\n",
        "    estimator=dt,\n",
        "    param_grid=param_grid,\n",
        "    scoring=\"roc_auc\",\n",
        "    cv=cv,\n",
        "    n_jobs=-1,\n",
        "    refit=True,\n",
        "    verbose=0,\n",
        ")\n",
        "\n",
        "\n",
        "t0 = time.time()\n",
        "grid.fit(X_train, train_targets)\n",
        "elapsed = time.time() - t0\n",
        "\n",
        "\n",
        "best_params = grid.best_params_\n",
        "cv_best_auc = grid.best_score_\n",
        "dt_best = grid.best_estimator_\n",
        "\n",
        "print(f\"⏱️ Час пошуку: {elapsed:.2f} c\")\n",
        "print(f\"Найкращі параметри: {best_params}\")\n",
        "print(f\"CV (mean AUROC): {cv_best_auc:.4f}\")\n",
        "\n",
        "\n",
        "y_tr_pred = dt_best.predict_proba(X_train)[:, 1]\n",
        "y_val_pred = dt_best.predict_proba(X_val)[:, 1]\n",
        "\n",
        "train_auc = roc_auc_score(train_targets, y_tr_pred)\n",
        "val_auc   = roc_auc_score(val_targets, y_val_pred)\n",
        "\n",
        "print(f\"AUROC train (best DT): {train_auc:.4f}\")\n",
        "print(f\"AUROC val   (best DT): {val_auc:.4f}\")\n",
        "\n",
        "\n",
        "gap = train_auc - val_auc\n",
        "if val_auc < 0.65 and train_auc < 0.70:\n",
        "    diagnosis = \"High bias (underfitting)\"\n",
        "elif gap > 0.10 and train_auc >= 0.80:\n",
        "    diagnosis = \"High variance (overfitting)\"\n",
        "else:\n",
        "    diagnosis = \"Баланс ок (помірний розрив між train і val)\"\n",
        "print(\"Діагностика:\", diagnosis)\n",
        "\n",
        "\n",
        "manual_val_auc = 0.9127\n",
        "print(f\"\\nПорівняння з ручним деревом: best DT val AUROC = {val_auc:.4f} vs manual = {manual_val_auc:.4f}\")\n",
        "print(f\"Δ val AUROC: {val_auc - manual_val_auc:+.4f}\")\n"
      ],
      "metadata": {
        "id": "RVg6jX-7IEwl",
        "colab": {
          "base_uri": "https://localhost:8080/"
        },
        "outputId": "65b11d81-fe79-4c51-bba8-170755ecf0c3"
      },
      "execution_count": 16,
      "outputs": [
        {
          "output_type": "stream",
          "name": "stdout",
          "text": [
            "⏱️ Час пошуку: 5.84 c\n",
            "Найкращі параметри: {'max_depth': np.int64(5), 'max_leaf_nodes': np.int64(10)}\n",
            "CV (mean AUROC): 0.8992\n",
            "AUROC train (best DT): 0.9015\n",
            "AUROC val   (best DT): 0.9002\n",
            "Діагностика: Баланс ок (помірний розрив між train і val)\n",
            "\n",
            "Порівняння з ручним деревом: best DT val AUROC = 0.9002 vs manual = 0.9127\n",
            "Δ val AUROC: -0.0125\n"
          ]
        }
      ]
    },
    {
      "cell_type": "markdown",
      "source": [
        "Хоча у моделі не видно перенавчання або недонавчання, а також GridSearch — більш стабільний варіант. Але в даному випадку ручний підбір дав кращу валідційну якість"
      ],
      "metadata": {
        "id": "Jbi3rWqkBrLP"
      }
    },
    {
      "cell_type": "markdown",
      "source": [
        "4. Виконайте пошук оптимальних гіперпараметрів для `DecisionTreeClassifier` з `RandomizedSearchCV` за заданою сіткою параметрів і кількість ітерацій 40.\n",
        "\n",
        "  Поставте кросвалідацію на 3 фолди, `scoring='roc_auc'`, зафіксуйте `random_seed` процедури крос валідації та виміряйте, скільки часу потребує пошук оптимальних гіперпараметрів.\n",
        "\n",
        "  Після успішного завершення пошуку оптимальних гіперпараметрів\n",
        "    - виведіть найкращі значення параметра\n",
        "    - збережіть в окрему змінну `dt_random_search_best` найкращу модель, знайдену з `RandomizedSearchCV`\n",
        "    - оцініть якість передбачень  `dt_random_search_best` на тренувальній і валідаційній вибірці з допомогою AUROC.\n",
        "    - зробіть висновок про якість моделі. Чи ця модель краща за ту, що ви знайшли з `GridSearch`?\n",
        "    - проаналізуйте параметри `dt_random_search_best` і порівняйте з параметрами `dt_best` - яку бачите відмінність? Ця вправа потрібна аби зрозуміти, як різні налаштування `DecisionTreeClassifier` впливають на якість моделі."
      ],
      "metadata": {
        "id": "nCnkGD_sEW1i"
      }
    },
    {
      "cell_type": "code",
      "source": [
        "params_dt = {\n",
        "    'criterion': ['gini', 'entropy'],\n",
        "    'splitter': ['best', 'random'],\n",
        "    'max_depth': np.arange(1, 20),\n",
        "    'max_leaf_nodes': np.arange(2, 20),\n",
        "    'min_samples_split': [2, 5, 10, 20],\n",
        "    'min_samples_leaf': [1, 2, 4, 8],\n",
        "    'max_features': [None, 'sqrt', 'log2']\n",
        "}"
      ],
      "metadata": {
        "id": "665uQ3NdIG0s"
      },
      "execution_count": 17,
      "outputs": []
    },
    {
      "cell_type": "code",
      "source": [
        "\n",
        "from sklearn.tree import DecisionTreeClassifier\n",
        "from sklearn.model_selection import RandomizedSearchCV, StratifiedKFold\n",
        "from sklearn.metrics import roc_auc_score\n",
        "\n",
        "\n",
        "dt = DecisionTreeClassifier(random_state=42)\n",
        "\n",
        "cv = StratifiedKFold(n_splits=3, shuffle=True, random_state=42)\n",
        "\n",
        "rs = RandomizedSearchCV(\n",
        "    estimator=dt,\n",
        "    param_distributions=params_dt,\n",
        "    n_iter=40,\n",
        "    scoring='roc_auc',\n",
        "    cv=cv,\n",
        "    n_jobs=-1,\n",
        "    random_state=42,\n",
        "    refit=True,\n",
        "    verbose=0\n",
        ")\n",
        "\n",
        "t0 = time.time()\n",
        "rs.fit(X_train, train_targets)\n",
        "elapsed = time.time() - t0\n",
        "\n",
        "best_params = rs.best_params_\n",
        "cv_best_auc = rs.best_score_\n",
        "dt_random_search_best = rs.best_estimator_\n",
        "\n",
        "print(f\"⏱️ Час пошуку: {elapsed:.2f} c\")\n",
        "print(f\"Найкращі параметри (RandomizedSearch): {best_params}\")\n",
        "print(f\"CV (mean AUROC): {cv_best_auc:.4f}\")\n",
        "\n",
        "\n",
        "y_tr_pred = dt_random_search_best.predict_proba(X_train)[:, 1]\n",
        "y_val_pred = dt_random_search_best.predict_proba(X_val)[:, 1]\n",
        "\n",
        "train_auc = roc_auc_score(train_targets, y_tr_pred)\n",
        "val_auc   = roc_auc_score(val_targets, y_val_pred)\n",
        "\n",
        "print(f\"AUROC train (RS best DT): {train_auc:.4f}\")\n",
        "print(f\"AUROC val   (RS best DT): {val_auc:.4f}\")\n",
        "\n",
        "\n",
        "gap = train_auc - val_auc\n",
        "if val_auc < 0.65 and train_auc < 0.70:\n",
        "    diagnosis = \"High bias (underfitting)\"\n",
        "elif gap > 0.10 and train_auc >= 0.80:\n",
        "    diagnosis = \"High variance (overfitting)\"\n",
        "else:\n",
        "    diagnosis = \"Баланс ок (помірний розрив між train і val)\"\n",
        "print(\"Діагностика:\", diagnosis)\n",
        "\n",
        "\n",
        "def subset_params(estimator, keys):\n",
        "    if estimator is None: return {}\n",
        "    p = estimator.get_params()\n",
        "    return {k: p.get(k, None) for k in keys}\n",
        "\n",
        "try:\n",
        "\n",
        "    keys_to_compare = ['criterion','splitter','max_depth','max_leaf_nodes','min_samples_split','min_samples_leaf','max_features']\n",
        "    rs_params_view = subset_params(dt_random_search_best, keys_to_compare)\n",
        "    print(\"\\nПараметри RS best:\", rs_params_view)\n",
        "\n",
        "    if 'dt_best' in globals():\n",
        "        gs_params_view = subset_params(dt_best, keys_to_compare)\n",
        "        print(\"Параметри GS best:\", gs_params_view)\n",
        "\n",
        "except Exception as e:\n",
        "    print(\"\\n(Порівняння з GridSearch пропущено):\", e)\n"
      ],
      "metadata": {
        "id": "MyHVD-R0IXqv",
        "colab": {
          "base_uri": "https://localhost:8080/"
        },
        "outputId": "0898e1c4-202c-4972-dbac-3be5d256bc17"
      },
      "execution_count": 19,
      "outputs": [
        {
          "output_type": "stream",
          "name": "stdout",
          "text": [
            "⏱️ Час пошуку: 1.14 c\n",
            "Найкращі параметри (RandomizedSearch): {'splitter': 'best', 'min_samples_split': 20, 'min_samples_leaf': 2, 'max_leaf_nodes': np.int64(14), 'max_features': None, 'max_depth': np.int64(16), 'criterion': 'entropy'}\n",
            "CV (mean AUROC): 0.9103\n",
            "AUROC train (RS best DT): 0.9169\n",
            "AUROC val   (RS best DT): 0.9166\n",
            "Діагностика: Баланс ок (помірний розрив між train і val)\n",
            "\n",
            "Параметри RS best: {'criterion': 'entropy', 'splitter': 'best', 'max_depth': np.int64(16), 'max_leaf_nodes': np.int64(14), 'min_samples_split': 20, 'min_samples_leaf': 2, 'max_features': None}\n",
            "Параметри GS best: {'criterion': 'gini', 'splitter': 'best', 'max_depth': np.int64(5), 'max_leaf_nodes': np.int64(10), 'min_samples_split': 2, 'min_samples_leaf': 1, 'max_features': None}\n"
          ]
        }
      ]
    },
    {
      "cell_type": "markdown",
      "source": [
        "RandomizedSearch краще за GridSearch у цьому експерименті: модель якісніша (AUROC 0.9166 vs 0.9002), збалансованіша й отримана значно швидше."
      ],
      "metadata": {
        "id": "H2hoQSeBDpuq"
      }
    },
    {
      "cell_type": "markdown",
      "source": [
        "5. Якщо у Вас вийшла метрика `AUROC` в цій серії експериментів - зробіть ще один `submission` на Kaggle і додайте код для цього і скріншот скора на публічному лідерборді нижче.\n",
        "\n",
        "  Сподіваюсь на цьому етапі ви вже відчули себе справжнім дослідником 😉"
      ],
      "metadata": {
        "id": "XArADR2CG8VK"
      }
    },
    {
      "cell_type": "code",
      "source": [
        "import pandas as pd\n",
        "from process_bank_churn import preprocess_data, preprocess_new_data\n",
        "\n",
        "train_df = pd.read_csv(\"train.csv\")\n",
        "test_df = pd.read_csv(\"test.csv\")\n",
        "\n",
        "X_train, train_targets, X_val, val_targets, input_cols, scaler, encoder = preprocess_data(train_df, scaler_numeric=True)\n",
        "\n",
        "X_test = preprocess_new_data(test_df, input_cols, scaler, encoder)\n",
        "\n",
        "y_test_pred = dt_random_search_best.predict_proba(X_test)[:, 1]\n",
        "\n",
        "submission = pd.DataFrame({\n",
        "    \"CustomerId\": test_df[\"CustomerId\"],\n",
        "    \"Exited\": y_test_pred\n",
        "})\n",
        "\n",
        "submission.to_csv(\"submission.csv\", index=False)\n",
        "print(\"✅ Файл submission.csv готовий для завантаження на Kaggle!\")\n"
      ],
      "metadata": {
        "id": "vadJfLlMF_V3",
        "colab": {
          "base_uri": "https://localhost:8080/"
        },
        "outputId": "82a0c848-e02a-4657-b36b-07b09e99b700"
      },
      "execution_count": 23,
      "outputs": [
        {
          "output_type": "stream",
          "name": "stdout",
          "text": [
            "✅ Файл submission.csv готовий для завантаження на Kaggle!\n"
          ]
        }
      ]
    },
    {
      "cell_type": "markdown",
      "source": [
        "Завантаження не відбулось, так як дедлайн пройшов"
      ],
      "metadata": {
        "id": "p4OTIGdQFWZ7"
      }
    }
  ]
}