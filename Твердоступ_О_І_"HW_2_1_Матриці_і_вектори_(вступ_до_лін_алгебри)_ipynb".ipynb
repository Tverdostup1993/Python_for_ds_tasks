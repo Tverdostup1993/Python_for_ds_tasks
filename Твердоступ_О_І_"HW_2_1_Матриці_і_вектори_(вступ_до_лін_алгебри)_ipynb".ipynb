{
  "nbformat": 4,
  "nbformat_minor": 0,
  "metadata": {
    "colab": {
      "provenance": [],
      "include_colab_link": true
    },
    "kernelspec": {
      "name": "python3",
      "display_name": "Python 3"
    },
    "language_info": {
      "name": "python"
    }
  },
  "cells": [
    {
      "cell_type": "markdown",
      "metadata": {
        "id": "view-in-github",
        "colab_type": "text"
      },
      "source": [
        "<a href=\"https://colab.research.google.com/github/Tverdostup1993/Python_for_ds_tasks/blob/main/%D0%A2%D0%B2%D0%B5%D1%80%D0%B4%D0%BE%D1%81%D1%82%D1%83%D0%BF_%D0%9E_%D0%86_%22HW_2_1_%D0%9C%D0%B0%D1%82%D1%80%D0%B8%D1%86%D1%96_%D1%96_%D0%B2%D0%B5%D0%BA%D1%82%D0%BE%D1%80%D0%B8_(%D0%B2%D1%81%D1%82%D1%83%D0%BF_%D0%B4%D0%BE_%D0%BB%D1%96%D0%BD_%D0%B0%D0%BB%D0%B3%D0%B5%D0%B1%D1%80%D0%B8)_ipynb%22.ipynb\" target=\"_parent\"><img src=\"https://colab.research.google.com/assets/colab-badge.svg\" alt=\"Open In Colab\"/></a>"
      ]
    },
    {
      "cell_type": "markdown",
      "source": [
        "### Завдання 1: Створення матриць та векторів\n",
        "1. Створіть `numpy` вектор `vector` розмірністю 10 з випадковими дійсними значеннями в діапазоні від 0 до 1. Можна скористатись двома альтернативними варіантами:\n",
        "  1. Генерація випадкових чисел з модулем [`random.uniform`](https://docs.python.org/3/library/random.html).\n",
        "  2. Створення вектора з допомогою метода `numpy` [np.random.rand](https://numpy.org/doc/stable/reference/random/generated/numpy.random.rand.html)\n",
        "\n",
        "2. Створіть матрицю `matrix` типу `numpy.array` розмірності 3x3 з наступними значеннями\n",
        "\n",
        "  $$\n",
        "  matrix = \\begin{bmatrix}\n",
        "  11 & 14 & 17 \\\\\n",
        "  20 & 23 & 26 \\\\\n",
        "  29 & 32 & 35\n",
        "  \\end{bmatrix}\n",
        "  $$\n",
        "\n",
        "  будь-яким відомими Вам способом.\n",
        "\n",
        "Виведіть на екран вектор і матрицю, а також їх розміри.\n"
      ],
      "metadata": {
        "id": "efug1V4CM0lT"
      }
    },
    {
      "cell_type": "code",
      "source": [
        "import numpy as np\n",
        "import random"
      ],
      "metadata": {
        "id": "jxA_lG2_VIMe"
      },
      "execution_count": null,
      "outputs": []
    },
    {
      "cell_type": "code",
      "source": [
        "# Варіант 1: Вектор з random.uniform\n",
        "vector1 = np.array([random.uniform(0, 1) for _ in range(10)])\n",
        "\n",
        "# Варіант 2: Вектор з np.random.rand\n",
        "vector2 = np.random.rand(10)\n",
        "\n",
        "# Матриця 3x3\n",
        "matrix = np.array([\n",
        "    [11, 20, 29],\n",
        "    [14, 23, 32],\n",
        "    [17, 26, 35]\n",
        "])\n",
        "\n",
        "# Виведення результатів\n",
        "print(\"Генерація випадкових чисел (random.uniform):\")\n",
        "print(vector1)\n",
        "print(\"Розмір вектора:\", vector1.shape)\n",
        "\n",
        "print(\"\\nВипадковий вектор (np.random.rand):\")\n",
        "print(vector2)\n",
        "print(\"Розмір вектора:\", vector2.shape)\n",
        "\n",
        "print(\"\\nМатриця:\")\n",
        "print(matrix)\n",
        "print(\"Розмір матриці:\", matrix.shape)"
      ],
      "metadata": {
        "id": "cdB7I_HqYcC0",
        "outputId": "13de7c1e-70ff-4f38-9d05-1f9126bca6b3",
        "colab": {
          "base_uri": "https://localhost:8080/"
        }
      },
      "execution_count": null,
      "outputs": [
        {
          "output_type": "stream",
          "name": "stdout",
          "text": [
            "Генерація випадкових чисел (random.uniform):\n",
            "[0.62660987 0.65399992 0.48074875 0.11517862 0.48064671 0.51297196\n",
            " 0.09305426 0.31257162 0.46517501 0.37077122]\n",
            "Розмір вектора: (10,)\n",
            "\n",
            "Випадковий вектор (np.random.rand):\n",
            "[0.08552803 0.53020779 0.90332796 0.85552203 0.65906721 0.80544006\n",
            " 0.49432687 0.7397328  0.19126891 0.19944501]\n",
            "Розмір вектора: (10,)\n",
            "\n",
            "Матриця:\n",
            "[[11 20 29]\n",
            " [14 23 32]\n",
            " [17 26 35]]\n",
            "Розмір матриці: (3, 3)\n"
          ]
        }
      ]
    },
    {
      "cell_type": "markdown",
      "source": [
        "\n",
        "### Завдання 2: Операції над векторами та матрицями\n",
        "Виконайте кожну з зазначених операцій над зазначеними оʼєктами і виведіть результат на екран:\n",
        "1. Додайте до кожного значення вектора `vector` число 10 і округліть кожне значення до 2 знаків після коми без використання циклів.\n",
        "2. Помножте кожен елемент матриці з першого завдання на 2 без використання циклів.\n",
        "3. Створіть новий вектор, який містить квадрат кожного `vector` без циклів.\n"
      ],
      "metadata": {
        "id": "TSJ1P4OuOVe2"
      }
    },
    {
      "cell_type": "code",
      "source": [
        "# Додаємо 10 і округлюємо до 2 знаків\n",
        "vector1_plus_10 = np.round(vector1 + 10, 2)\n",
        "vector2_plus_10 = np.round(vector2 + 10, 2)\n",
        "\n",
        "print(\"Вектор1 + 10, округлений до 2 знаків:\")\n",
        "print(vector1_plus_10)\n",
        "print(\"Вектор2 + 10, округлений до 2 знаків:\")\n",
        "print(vector2_plus_10)"
      ],
      "metadata": {
        "id": "nAAojtyUVJXN",
        "outputId": "d4a9246d-3401-4815-bac8-e822dfaa0707",
        "colab": {
          "base_uri": "https://localhost:8080/"
        }
      },
      "execution_count": null,
      "outputs": [
        {
          "output_type": "stream",
          "name": "stdout",
          "text": [
            "Вектор1 + 10, округлений до 2 знаків:\n",
            "[10.53 10.95 10.02 10.04 10.67 10.04 10.38 10.23 10.24 10.63]\n",
            "Вектор2 + 10, округлений до 2 знаків:\n",
            "[10.22 10.61 10.36 10.24 10.56 10.57 10.59 10.35 10.42 10.4 ]\n"
          ]
        }
      ]
    },
    {
      "cell_type": "code",
      "source": [
        "matrix_times_2 = matrix * 2\n",
        "\n",
        "print(\"\\nМатриця × 2:\")\n",
        "print(matrix_times_2)"
      ],
      "metadata": {
        "id": "2KcOqH04b7tA",
        "outputId": "57a59f5d-ade7-444e-c62c-07bf83df219a",
        "colab": {
          "base_uri": "https://localhost:8080/"
        }
      },
      "execution_count": null,
      "outputs": [
        {
          "output_type": "stream",
          "name": "stdout",
          "text": [
            "\n",
            "Матриця × 2:\n",
            "[[22 40 58]\n",
            " [28 46 64]\n",
            " [34 52 70]]\n"
          ]
        }
      ]
    },
    {
      "cell_type": "code",
      "source": [
        "vector1_squared = np.square(vector1)\n",
        "vector2_squared = np.square(vector2)\n",
        "\n",
        "print(\"\\nКвадрат значень вектора:\")\n",
        "print(vector1_squared)\n",
        "\n",
        "print(\"\\nКвадрат значень вектора:\")\n",
        "print(vector2_squared)"
      ],
      "metadata": {
        "id": "YcjIRp5ucP9G",
        "outputId": "631ef123-3e7e-49f3-ec51-58a2bb82ae66",
        "colab": {
          "base_uri": "https://localhost:8080/"
        }
      },
      "execution_count": null,
      "outputs": [
        {
          "output_type": "stream",
          "name": "stdout",
          "text": [
            "\n",
            "Квадрат значень вектора:\n",
            "[2.76197873e-01 9.11311361e-01 3.67064914e-04 1.40497118e-03\n",
            " 4.43479814e-01 1.74873281e-03 1.40739606e-01 5.40922593e-02\n",
            " 5.88475633e-02 3.99479241e-01]\n",
            "\n",
            "Квадрат значень вектора:\n",
            "[0.0503328  0.36837976 0.13044409 0.05823614 0.30914404 0.32219926\n",
            " 0.34639515 0.12555114 0.17536542 0.16385379]\n"
          ]
        }
      ]
    },
    {
      "cell_type": "markdown",
      "source": [
        "\n",
        "### Завдання 3: Множення матриць\n",
        "1. Задані дві матриці `A` і `B`розмірностями 3x2 та 2х3. Виконайте їхнє множення, щоб отримати матрицю 2x2. Виведіть результуючу матрицю `result_matrix` на екран.\n",
        "\n",
        "2. Заданий вектор `C` розмірністю 2х1. Подумайте спочатку, яку розмірність Ви отрмаєте, коли домножите `result_matrix` на вектор `C` і який результат буде. А потім виконайте множення і виведіть результат на екран.\n",
        "\n",
        "3. Задана матриця `D` розмірністю 2х2. Подумайте спочатку, яку розмірність Ви отрмаєте, коли домножите `result_matrix` на матрицю `D` і який результат буде. А потім виконайте множення і виведіть результат на екран."
      ],
      "metadata": {
        "id": "u6RvWVfhPy-k"
      }
    },
    {
      "cell_type": "code",
      "source": [
        "A = np.array(\n",
        "    [[0.18, 0.53],\n",
        "     [0.75, 0.47],\n",
        "     [0.35, 0.21]])\n",
        "\n",
        "B = np.array(\n",
        "    [[0.17, 0.58, 0.75],\n",
        "     [0.38, 0.11, 0.15]])\n",
        "\n",
        "C = np.array([[0], [1]])\n",
        "\n",
        "D = np.array([[0,1], [1,0]])\n",
        "\n",
        "display(A, B, C, D)"
      ],
      "metadata": {
        "id": "RwXfPzlbSJ44",
        "outputId": "6f62402f-1d98-47af-8bac-7a582c2843aa",
        "colab": {
          "base_uri": "https://localhost:8080/",
          "height": 173
        }
      },
      "execution_count": null,
      "outputs": [
        {
          "output_type": "display_data",
          "data": {
            "text/plain": [
              "array([[0.18, 0.53],\n",
              "       [0.75, 0.47],\n",
              "       [0.35, 0.21]])"
            ]
          },
          "metadata": {}
        },
        {
          "output_type": "display_data",
          "data": {
            "text/plain": [
              "array([[0.17, 0.58, 0.75],\n",
              "       [0.38, 0.11, 0.15]])"
            ]
          },
          "metadata": {}
        },
        {
          "output_type": "display_data",
          "data": {
            "text/plain": [
              "array([[0],\n",
              "       [1]])"
            ]
          },
          "metadata": {}
        },
        {
          "output_type": "display_data",
          "data": {
            "text/plain": [
              "array([[0, 1],\n",
              "       [1, 0]])"
            ]
          },
          "metadata": {}
        }
      ]
    },
    {
      "cell_type": "code",
      "source": [
        "result_matrix = np.dot(B, A)\n",
        "\n",
        "print(result_matrix)"
      ],
      "metadata": {
        "id": "z7-boTbhVKkj",
        "outputId": "7fab6af9-62ca-48e7-d670-2b3bc8f75e65",
        "colab": {
          "base_uri": "https://localhost:8080/"
        }
      },
      "execution_count": null,
      "outputs": [
        {
          "output_type": "stream",
          "name": "stdout",
          "text": [
            "[[0.7281 0.5202]\n",
            " [0.2034 0.2846]]\n"
          ]
        }
      ]
    },
    {
      "cell_type": "code",
      "source": [
        "result_matrix_C=result_matrix * C\n",
        "print(result_matrix_C)"
      ],
      "metadata": {
        "id": "redBJ1qIgEE8",
        "outputId": "3c264e52-f24b-4f8c-cbc8-d51fef1f2aeb",
        "colab": {
          "base_uri": "https://localhost:8080/"
        }
      },
      "execution_count": null,
      "outputs": [
        {
          "output_type": "stream",
          "name": "stdout",
          "text": [
            "[[0.     0.    ]\n",
            " [0.2034 0.2846]]\n"
          ]
        }
      ]
    },
    {
      "cell_type": "code",
      "source": [
        "result_matrix_D=result_matrix * D\n",
        "print(result_matrix_D)"
      ],
      "metadata": {
        "id": "3bvcqDo6gboN",
        "outputId": "c43e7e0d-c195-48eb-ca7d-036c4ea90d88",
        "colab": {
          "base_uri": "https://localhost:8080/"
        }
      },
      "execution_count": null,
      "outputs": [
        {
          "output_type": "stream",
          "name": "stdout",
          "text": [
            "[[0.     0.5202]\n",
            " [0.2034 0.    ]]\n"
          ]
        }
      ]
    },
    {
      "cell_type": "markdown",
      "source": [
        "\n",
        "### Завдання 4: Транспонування матриць\n",
        "1. Транспонуйте `result_matrix`.\n",
        "2. Зробіть транспонування вектора `vector` і виведіть форму нової структури. Чи бачите ви зміну?\n",
        "3. Використайте операцію `numpy.expand_dims` над вектором `vector` з аргументом axis=1. Запишіть отриманий результат в змінну `column_vector` і виведіть на екран. Порівняйте з `vector`.\n",
        "4. Зробіть транспонування `column_vector`, виведіть результат на екран разом з розмірностями отриманої структури.\n",
        "\n",
        "\n"
      ],
      "metadata": {
        "id": "wohp0_cxSGpl"
      }
    },
    {
      "cell_type": "code",
      "source": [
        "result_matrix_T = result_matrix.T\n",
        "print(result_matrix_T)"
      ],
      "metadata": {
        "id": "4hFcq1baVLii",
        "outputId": "9aed7c0d-6b64-40e8-cf18-cf1883b579b4",
        "colab": {
          "base_uri": "https://localhost:8080/"
        }
      },
      "execution_count": null,
      "outputs": [
        {
          "output_type": "stream",
          "name": "stdout",
          "text": [
            "[[0.7281 0.2034]\n",
            " [0.5202 0.2846]]\n"
          ]
        }
      ]
    },
    {
      "cell_type": "code",
      "source": [
        "vector_T = vector2.T\n",
        "print (vector_T)"
      ],
      "metadata": {
        "id": "UaWASHAvh0ze",
        "outputId": "0011a761-4449-4f1c-dae5-3672f70fef61",
        "colab": {
          "base_uri": "https://localhost:8080/"
        }
      },
      "execution_count": null,
      "outputs": [
        {
          "output_type": "stream",
          "name": "stdout",
          "text": [
            "[0.08552803 0.53020779 0.90332796 0.85552203 0.65906721 0.80544006\n",
            " 0.49432687 0.7397328  0.19126891 0.19944501]\n"
          ]
        }
      ]
    },
    {
      "cell_type": "markdown",
      "source": [
        "Немає різниці через те що ми транспортуємо одномірний вектор"
      ],
      "metadata": {
        "id": "pSPan7ERiWKW"
      }
    },
    {
      "cell_type": "code",
      "source": [
        "vector2_expand = np.expand_dims(vector2, axis=1)\n",
        "print (vector2_expand)"
      ],
      "metadata": {
        "id": "6Dlh6nYsjFjJ",
        "outputId": "165f30da-0c0c-436f-e02d-59d970008ea1",
        "colab": {
          "base_uri": "https://localhost:8080/"
        }
      },
      "execution_count": null,
      "outputs": [
        {
          "output_type": "stream",
          "name": "stdout",
          "text": [
            "[[0.08552803]\n",
            " [0.53020779]\n",
            " [0.90332796]\n",
            " [0.85552203]\n",
            " [0.65906721]\n",
            " [0.80544006]\n",
            " [0.49432687]\n",
            " [0.7397328 ]\n",
            " [0.19126891]\n",
            " [0.19944501]]\n"
          ]
        }
      ]
    },
    {
      "cell_type": "markdown",
      "source": [
        "Перетворили вектор на стовпчик (10×1). Тепер це матриця з однією колонкою."
      ],
      "metadata": {
        "id": "yM8IeV8hjgKi"
      }
    },
    {
      "cell_type": "code",
      "source": [
        "vector2_expand_T = vector2_expand.T\n",
        "print (vector2_expand_T)\n",
        "print(\"Розмір матриці:\", vector2_expand_T.shape)"
      ],
      "metadata": {
        "id": "ssiPXfRrj07N",
        "outputId": "daafe627-0be0-4f36-9ee9-096f3759134f",
        "colab": {
          "base_uri": "https://localhost:8080/"
        }
      },
      "execution_count": null,
      "outputs": [
        {
          "output_type": "stream",
          "name": "stdout",
          "text": [
            "[[0.08552803 0.53020779 0.90332796 0.85552203 0.65906721 0.80544006\n",
            "  0.49432687 0.7397328  0.19126891 0.19944501]]\n",
            "Розмір матриці: (1, 10)\n"
          ]
        }
      ]
    }
  ]
}